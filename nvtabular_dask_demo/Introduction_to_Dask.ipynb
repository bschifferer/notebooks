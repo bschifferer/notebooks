{
 "cells": [
  {
   "cell_type": "markdown",
   "metadata": {},
   "source": [
    "# Hands-On Dask Basics *for NVTabular Developers*\n",
    "\n",
    "**Author**: Rick Zamora (rzamora@nvidia.com)\n",
    "\n",
    "**Date**: Preparted July 10th 2020 (last update 7/12/2020)\n",
    "\n",
    "**Acknowledgement**: Much of the introductory material included here is borrowed from other Dask documentation and tutorials.  For example, the data is taken directly from Jacob Tomlinson's recent [\"Dask Video Tutorial\"](https://github.com/jacobtomlinson/dask-video-tutorial-2020) ([YouTube link](https://www.youtube.com/watch?v=_u0OQm9qf_A)).\n",
    "\n",
    "Other useful Dask resources:\n",
    "- [Dask.org](https://dask.org/)\n",
    "    - [Tutorial pages](https://tutorial.dask.org/00_overview.html)\n",
    "- [GitHub Tutorial](https://github.com/dask/dask-tutorial)\n",
    "\n",
    "\n",
    "**Note**: The target of this tutorial/introduction is **NVTabular** developers.  This means I will focus on the components of Dask that are most critical for NVTabular.  There is a lot more to Dask than the simple examples and use cases covered in this tutorial."
   ]
  },
  {
   "cell_type": "markdown",
   "metadata": {},
   "source": [
    "<img src='images/dask-horizontal.svg' width=400>\n",
    "\n",
    "## What is Dask\n",
    "\n",
    "**Very Short Answer**: Dask is an open-source library designed to natively scale Python code.\n",
    "\n",
    "**Slightly-Longer Short Answer**: Dask is a task-based library for parallel scheduling and execution. Although it is certainly possible to use the task-scheduling machinary directly to implement customized parallel workflows (we do in NVTabular), most users only interact with Dask through a *Dask Collection API*.  The most popular \"collection\" API's include:\n",
    "\n",
    "- [Dask DataFrame](https://docs.dask.org/en/latest/dataframe.html): Dask-based version of the [Pandas](https://pandas.pydata.org/) DataFrame/Series API.  Note that `dask_cudf` is just a wrapper around this collection module (`dask.dataframe`).\n",
    "- [Dask Array](https://docs.dask.org/en/latest/array.html): Dask-based version of the [NumPy]() array API\n",
    "- [Dask Bag](https://docs.dask.org/en/latest/bag.html): *Similar to* a Dask-based version of PyToolz or a Pythonic version of PySpark RDD\n",
    "\n",
    "\n",
    "For example, Dask DataFrame provides a convenient API for decomposing large pandas (or cuDF) DataFrame/Series objects into a collection of DataFrame *partitions*.  This tutorial will focus mostly on this particular Dask collection (since it is the basis for `dask_cudf`).  However, instead of relying only on the established `dask.dataframe` API, we will also see how it is possible (perhaps easy) to implement a custom task graph to operate on Dask-DataFrame objects when necessary.\n",
    "\n",
    "<img src=\"images/dask-dataframe.svg\" width=\"350px\">"
   ]
  },
  {
   "cell_type": "markdown",
   "metadata": {},
   "source": [
    "### Dask Uses DAGs Internally\n",
    "\n",
    "Before we start writing any code, it is useful to understand (on a basic level) how Dask actully works. When an application or library uses a Dask collection API (like Dask DataFrame), they are typically using that API to construct a directed acyclic graph (DAG) of tasks.  Once a DAG is constructed, the **core** Dask API can be used (either directly or implicitly through the collection API) to schedule and execute the DAG on one or more threads/processes.\n",
    "\n",
    "In other words, Dask provides various APIs to:\n",
    "\n",
    "1. Construct a DAG of \"tasks\"\n",
    "2. Schedule/execute those DAGs\n",
    "3. (Optionally) Spin up dedicated worker and scheduler processes to enable distributed execution\n",
    "\n",
    "<img src='images/dask_dag_cartoon.png' width=500>"
   ]
  },
  {
   "cell_type": "markdown",
   "metadata": {},
   "source": [
    "### Important Components of the \"Dask Ecosystem\"\n",
    "\n",
    "The components of the Dask ecosystem that are most critical for NVTabular (and will be discussed in this tutorial) are:\n",
    "\n",
    "- `dask` (core Dask library): [[GitHub Repo](https://github.com/dask/dask)]  This is the core Dask library.  It also contains the Dask Dataframe API (`dask.dataframe`)\n",
    "- `dask_cudf`: [[GitHub Repo](https://github.com/rapidsai/cudf/tree/branch-0.15/python/dask_cudf)] This is effectively a wrapper around the `dask.dataframe` module defined in the core Dask library.  Note that a `dask_cudf.DataFrame` object should be thought of as a `dask.dataframe.DataFrame` object, but with the underlying partitions being `cudf.DataFrame`'s (rather than `pandas.DataFrame`)\n",
    "- `distributed`: [[GitHub Repo](https://github.com/dask/distributed)] Distributed version of the Dask execution model (includes the necessary code for scheduling, execution and communication between distributed processes).  This library does not deal with the construction of DAGs, just with the scheduling and execution of DAGs on distributed *workers*.\n",
    "- `dask_cuda`: [[GitHub Repo](https://github.com/rapidsai/dask-cuda)] Provides various utilities to improve deployment and management of distributed Dask *workers* on CUDA-enabled systems."
   ]
  },
  {
   "cell_type": "markdown",
   "metadata": {},
   "source": [
    "## Hands On: Dask DataFrame Code\n",
    "\n",
    "Let's start by exploring the (pandas-like) Dask DataFrame API using a toy dataset. Although Dask is typically used in conjunction with a distributed cluster in production, we will start by using the (default) single-machine approach here..."
   ]
  },
  {
   "cell_type": "code",
   "execution_count": 18,
   "metadata": {},
   "outputs": [
    {
     "data": {
      "text/html": [
       "<div><strong>Dask DataFrame Structure:</strong></div>\n",
       "<div>\n",
       "<style scoped>\n",
       "    .dataframe tbody tr th:only-of-type {\n",
       "        vertical-align: middle;\n",
       "    }\n",
       "\n",
       "    .dataframe tbody tr th {\n",
       "        vertical-align: top;\n",
       "    }\n",
       "\n",
       "    .dataframe thead th {\n",
       "        text-align: right;\n",
       "    }\n",
       "</style>\n",
       "<table border=\"1\" class=\"dataframe\">\n",
       "  <thead>\n",
       "    <tr style=\"text-align: right;\">\n",
       "      <th></th>\n",
       "      <th>Unnamed: 0</th>\n",
       "      <th>brewery_id</th>\n",
       "      <th>brewery_name</th>\n",
       "      <th>review_time</th>\n",
       "      <th>review_overall</th>\n",
       "      <th>review_aroma</th>\n",
       "      <th>review_appearance</th>\n",
       "      <th>review_profilename</th>\n",
       "      <th>beer_style</th>\n",
       "      <th>review_palate</th>\n",
       "      <th>review_taste</th>\n",
       "      <th>beer_name</th>\n",
       "      <th>beer_abv</th>\n",
       "      <th>beer_beerid</th>\n",
       "    </tr>\n",
       "    <tr>\n",
       "      <th>npartitions=2</th>\n",
       "      <th></th>\n",
       "      <th></th>\n",
       "      <th></th>\n",
       "      <th></th>\n",
       "      <th></th>\n",
       "      <th></th>\n",
       "      <th></th>\n",
       "      <th></th>\n",
       "      <th></th>\n",
       "      <th></th>\n",
       "      <th></th>\n",
       "      <th></th>\n",
       "      <th></th>\n",
       "      <th></th>\n",
       "    </tr>\n",
       "  </thead>\n",
       "  <tbody>\n",
       "    <tr>\n",
       "      <th></th>\n",
       "      <td>int64</td>\n",
       "      <td>int64</td>\n",
       "      <td>object</td>\n",
       "      <td>int64</td>\n",
       "      <td>float64</td>\n",
       "      <td>float64</td>\n",
       "      <td>float64</td>\n",
       "      <td>object</td>\n",
       "      <td>object</td>\n",
       "      <td>float64</td>\n",
       "      <td>float64</td>\n",
       "      <td>object</td>\n",
       "      <td>float64</td>\n",
       "      <td>int64</td>\n",
       "    </tr>\n",
       "    <tr>\n",
       "      <th></th>\n",
       "      <td>...</td>\n",
       "      <td>...</td>\n",
       "      <td>...</td>\n",
       "      <td>...</td>\n",
       "      <td>...</td>\n",
       "      <td>...</td>\n",
       "      <td>...</td>\n",
       "      <td>...</td>\n",
       "      <td>...</td>\n",
       "      <td>...</td>\n",
       "      <td>...</td>\n",
       "      <td>...</td>\n",
       "      <td>...</td>\n",
       "      <td>...</td>\n",
       "    </tr>\n",
       "    <tr>\n",
       "      <th></th>\n",
       "      <td>...</td>\n",
       "      <td>...</td>\n",
       "      <td>...</td>\n",
       "      <td>...</td>\n",
       "      <td>...</td>\n",
       "      <td>...</td>\n",
       "      <td>...</td>\n",
       "      <td>...</td>\n",
       "      <td>...</td>\n",
       "      <td>...</td>\n",
       "      <td>...</td>\n",
       "      <td>...</td>\n",
       "      <td>...</td>\n",
       "      <td>...</td>\n",
       "    </tr>\n",
       "  </tbody>\n",
       "</table>\n",
       "</div>\n",
       "<div>Dask Name: read-csv, 2 tasks</div>"
      ],
      "text/plain": [
       "Dask DataFrame Structure:\n",
       "              Unnamed: 0 brewery_id brewery_name review_time review_overall review_aroma review_appearance review_profilename beer_style review_palate review_taste beer_name beer_abv beer_beerid\n",
       "npartitions=2                                                                                                                                                                                     \n",
       "                   int64      int64       object       int64        float64      float64           float64             object     object       float64      float64    object  float64       int64\n",
       "                     ...        ...          ...         ...            ...          ...               ...                ...        ...           ...          ...       ...      ...         ...\n",
       "                     ...        ...          ...         ...            ...          ...               ...                ...        ...           ...          ...       ...      ...         ...\n",
       "Dask Name: read-csv, 2 tasks"
      ]
     },
     "execution_count": 18,
     "metadata": {},
     "output_type": "execute_result"
    }
   ],
   "source": [
    "import dask.dataframe as dd\n",
    "\n",
    "ddf = dd.read_csv('data/beer_small.csv', blocksize=12e6)\n",
    "ddf"
   ]
  },
  {
   "cell_type": "markdown",
   "metadata": {},
   "source": [
    "Here we have created a `dask.dataframe.DataFrame` object called `ddf`.  `ddf` is essentiually a (**lazy**) collection of pandas dataframes.  Each pandas dataframe in this collection is called a **partition**.  In this example, we only have **two** partitions.  We can access this property (the total number of partitions) using the `DataFrame.npartitions` attribute.\n",
    "\n",
    "**It is absolutely critical to recognize that `ddf` is *not* actually backed by *in-memory* pandas data, but instead by a DAG of tasks**.  This DAG (accessible via `ddf.dask`) specifies the exact network of operations needed to preduce the underlying partitions."
   ]
  },
  {
   "cell_type": "code",
   "execution_count": 2,
   "metadata": {},
   "outputs": [
    {
     "name": "stdout",
     "output_type": "stream",
     "text": [
      "<dask.highlevelgraph.HighLevelGraph object at 0x7f27104f6090> \n",
      "\n",
      "{'read-csv-1b3e81cbee82801f8774e69b9a605a59': <dask.dataframe.io.csv.CSVSubgraph object at 0x7f2712c07310>} \n",
      "\n"
     ]
    }
   ],
   "source": [
    "# At this point, `ddf.dask` will correspond to a `HighLevelGraph` object.\n",
    "\n",
    "print(ddf.dask, \"\\n\")\n",
    "print(ddf.dask.layers, \"\\n\")"
   ]
  },
  {
   "cell_type": "markdown",
   "metadata": {},
   "source": [
    "At this point, the `ddf.dask` DAG will correspond to a `HighLevelGraph` object. The purpose of that class is to enable various \"high-level graph optimizations\" before the scheduler ultimately converts the graph (back) into a dictionary of key-argument tuples.\n",
    "\n",
    "Besides comprising a list of (pandas) partitions and an underlying DAG, a `dask.dataframe.DataFrame` object also includes (among other things) a public `divisions` attribute and a private `_meta` attribute.\n",
    "\n",
    "- `divisions`: Specifies the \"threshold\" index values between adjacent partitions.  If there is a global (sorted) index, Dask can use these divisions (if known) to speed up certain operations. Although we do not set/use this attribute in NVTabular (at the moment), it is good to be aware of.\n",
    "- `_meta`: An empty `pandas.DataFrame` object used to define the global schema (column/index names and dtypes) for the Dask DataFrame.  Since a Dask DataFrame is lazily evaluated, the class will use this `_meta` attribute as a proxy object to determine how each task will transform the schema of the larger collection."
   ]
  },
  {
   "cell_type": "code",
   "execution_count": 3,
   "metadata": {},
   "outputs": [
    {
     "name": "stdout",
     "output_type": "stream",
     "text": [
      "<class 'pandas.core.frame.DataFrame'>\n"
     ]
    },
    {
     "data": {
      "text/html": [
       "<div>\n",
       "<style scoped>\n",
       "    .dataframe tbody tr th:only-of-type {\n",
       "        vertical-align: middle;\n",
       "    }\n",
       "\n",
       "    .dataframe tbody tr th {\n",
       "        vertical-align: top;\n",
       "    }\n",
       "\n",
       "    .dataframe thead th {\n",
       "        text-align: right;\n",
       "    }\n",
       "</style>\n",
       "<table border=\"1\" class=\"dataframe\">\n",
       "  <thead>\n",
       "    <tr style=\"text-align: right;\">\n",
       "      <th></th>\n",
       "      <th>Unnamed: 0</th>\n",
       "      <th>brewery_id</th>\n",
       "      <th>brewery_name</th>\n",
       "      <th>review_time</th>\n",
       "      <th>review_overall</th>\n",
       "      <th>review_aroma</th>\n",
       "      <th>review_appearance</th>\n",
       "      <th>review_profilename</th>\n",
       "      <th>beer_style</th>\n",
       "      <th>review_palate</th>\n",
       "      <th>review_taste</th>\n",
       "      <th>beer_name</th>\n",
       "      <th>beer_abv</th>\n",
       "      <th>beer_beerid</th>\n",
       "    </tr>\n",
       "  </thead>\n",
       "  <tbody>\n",
       "  </tbody>\n",
       "</table>\n",
       "</div>"
      ],
      "text/plain": [
       "Empty DataFrame\n",
       "Columns: [Unnamed: 0, brewery_id, brewery_name, review_time, review_overall, review_aroma, review_appearance, review_profilename, beer_style, review_palate, review_taste, beer_name, beer_abv, beer_beerid]\n",
       "Index: []"
      ]
     },
     "execution_count": 3,
     "metadata": {},
     "output_type": "execute_result"
    }
   ],
   "source": [
    "# Inspect the `_meta` attribute\n",
    "\n",
    "print(type(ddf._meta))\n",
    "ddf._meta"
   ]
  },
  {
   "cell_type": "markdown",
   "metadata": {},
   "source": [
    "__Processing Data with Pandas Syntax__\n",
    "\n",
    "A key feature of Dask DataFrame is its close mapping to the Pandas API. For example, if we want to filter `ddf` to include \"IPA\"-style beers, we can do so with familiar syntax..."
   ]
  },
  {
   "cell_type": "code",
   "execution_count": 4,
   "metadata": {},
   "outputs": [],
   "source": [
    "ddf = ddf[ddf.beer_style.str.contains('IPA')]"
   ]
  },
  {
   "cell_type": "markdown",
   "metadata": {},
   "source": [
    "We can also do things like: select a subset of columns, add a new column, sort according to overall review, and reset the index..."
   ]
  },
  {
   "cell_type": "code",
   "execution_count": 19,
   "metadata": {},
   "outputs": [],
   "source": [
    "ddf = ddf[[\"brewery_name\", \"review_overall\", \"beer_style\"]]\n",
    "ddf[\"100_scale\"] = (ddf[\"review_overall\"] / 5.0 * 100).astype(\"int\")\n",
    "ddf = ddf.set_index(\"review_overall\", shuffle=\"tasks\").reset_index(drop=True)"
   ]
  },
  {
   "cell_type": "markdown",
   "metadata": {},
   "source": [
    "Under the hood, these operations are simply adding tasks to the `ddf` DAG, and updating the `_meta` attribute..."
   ]
  },
  {
   "cell_type": "code",
   "execution_count": 20,
   "metadata": {},
   "outputs": [
    {
     "data": {
      "text/html": [
       "<div>\n",
       "<style scoped>\n",
       "    .dataframe tbody tr th:only-of-type {\n",
       "        vertical-align: middle;\n",
       "    }\n",
       "\n",
       "    .dataframe tbody tr th {\n",
       "        vertical-align: top;\n",
       "    }\n",
       "\n",
       "    .dataframe thead th {\n",
       "        text-align: right;\n",
       "    }\n",
       "</style>\n",
       "<table border=\"1\" class=\"dataframe\">\n",
       "  <thead>\n",
       "    <tr style=\"text-align: right;\">\n",
       "      <th></th>\n",
       "      <th>brewery_name</th>\n",
       "      <th>beer_style</th>\n",
       "      <th>100_scale</th>\n",
       "    </tr>\n",
       "  </thead>\n",
       "  <tbody>\n",
       "  </tbody>\n",
       "</table>\n",
       "</div>"
      ],
      "text/plain": [
       "Empty DataFrame\n",
       "Columns: [brewery_name, beer_style, 100_scale]\n",
       "Index: []"
      ]
     },
     "execution_count": 20,
     "metadata": {},
     "output_type": "execute_result"
    }
   ],
   "source": [
    "ddf._meta"
   ]
  },
  {
   "cell_type": "markdown",
   "metadata": {},
   "source": [
    "__Executing the `ddf` DAG__\n",
    "\n",
    "Note that we still haven't loaded any data into memory at this point. The `ddf` object still corresponds to a DAG (and other light-weight metadata). If we want to actually execute the task graph, and load the data into memory, we can use `ddf.compute()`\n",
    "\n",
    "> **Important Information about `compute`**: The `compute` method is [defined for all Dask collections](https://github.com/dask/dask/blob/51d3f1120fc55f21b5ce1ac137201ea01d9cf496/dask/base.py#L143). For Dask DataFrame, this method will (1) trigger the execution of the graph and (2) convert the Dask DataFrame into a **single** Pandas DataFrame. *This means that you shuold be sure the pandas equivalent of `ddf` will fit in memory before you use `compute`!*\n",
    "\n",
    "When running in the default single-machine mode (which we are doing here), you can also specify the type of scheduler you want to use to execute the graph. The options are: `\"threads\"`, `\"synchronous\"` or `\"processes\"`.  When debugging dask code, I highly recommend you use the `\"synchronous\"`, because it effectively serializes all execution (allowing you to use `pdb` in a reliable way)..."
   ]
  },
  {
   "cell_type": "code",
   "execution_count": 21,
   "metadata": {},
   "outputs": [
    {
     "data": {
      "text/html": [
       "<div>\n",
       "<style scoped>\n",
       "    .dataframe tbody tr th:only-of-type {\n",
       "        vertical-align: middle;\n",
       "    }\n",
       "\n",
       "    .dataframe tbody tr th {\n",
       "        vertical-align: top;\n",
       "    }\n",
       "\n",
       "    .dataframe thead th {\n",
       "        text-align: right;\n",
       "    }\n",
       "</style>\n",
       "<table border=\"1\" class=\"dataframe\">\n",
       "  <thead>\n",
       "    <tr style=\"text-align: right;\">\n",
       "      <th></th>\n",
       "      <th>brewery_name</th>\n",
       "      <th>beer_style</th>\n",
       "      <th>100_scale</th>\n",
       "    </tr>\n",
       "  </thead>\n",
       "  <tbody>\n",
       "    <tr>\n",
       "      <th>0</th>\n",
       "      <td>Dogfish Head Brewery</td>\n",
       "      <td>American Double / Imperial IPA</td>\n",
       "      <td>20</td>\n",
       "    </tr>\n",
       "    <tr>\n",
       "      <th>1</th>\n",
       "      <td>Nøgne Ø - Det Kompromissløse Bryggeri A/S</td>\n",
       "      <td>American Double / Imperial Stout</td>\n",
       "      <td>20</td>\n",
       "    </tr>\n",
       "    <tr>\n",
       "      <th>2</th>\n",
       "      <td>Anheuser-Busch</td>\n",
       "      <td>Herbed / Spiced Beer</td>\n",
       "      <td>20</td>\n",
       "    </tr>\n",
       "    <tr>\n",
       "      <th>3</th>\n",
       "      <td>Lang Creek Brewery</td>\n",
       "      <td>Winter Warmer</td>\n",
       "      <td>20</td>\n",
       "    </tr>\n",
       "    <tr>\n",
       "      <th>4</th>\n",
       "      <td>Dogfish Head Brewery</td>\n",
       "      <td>American Barleywine</td>\n",
       "      <td>20</td>\n",
       "    </tr>\n",
       "    <tr>\n",
       "      <th>...</th>\n",
       "      <td>...</td>\n",
       "      <td>...</td>\n",
       "      <td>...</td>\n",
       "    </tr>\n",
       "    <tr>\n",
       "      <th>130271</th>\n",
       "      <td>Victory Brewing Company</td>\n",
       "      <td>American Barleywine</td>\n",
       "      <td>100</td>\n",
       "    </tr>\n",
       "    <tr>\n",
       "      <th>130272</th>\n",
       "      <td>Flying Dog Brewery</td>\n",
       "      <td>Witbier</td>\n",
       "      <td>100</td>\n",
       "    </tr>\n",
       "    <tr>\n",
       "      <th>130273</th>\n",
       "      <td>Surly Brewing Company</td>\n",
       "      <td>American Brown Ale</td>\n",
       "      <td>100</td>\n",
       "    </tr>\n",
       "    <tr>\n",
       "      <th>130274</th>\n",
       "      <td>Der HirschBrau/Privatbrauerei Höss</td>\n",
       "      <td>Hefeweizen</td>\n",
       "      <td>100</td>\n",
       "    </tr>\n",
       "    <tr>\n",
       "      <th>130275</th>\n",
       "      <td>Live Oak Brewing Company</td>\n",
       "      <td>Hefeweizen</td>\n",
       "      <td>100</td>\n",
       "    </tr>\n",
       "  </tbody>\n",
       "</table>\n",
       "<p>158661 rows × 3 columns</p>\n",
       "</div>"
      ],
      "text/plain": [
       "                                     brewery_name  \\\n",
       "0                            Dogfish Head Brewery   \n",
       "1       Nøgne Ø - Det Kompromissløse Bryggeri A/S   \n",
       "2                                  Anheuser-Busch   \n",
       "3                              Lang Creek Brewery   \n",
       "4                            Dogfish Head Brewery   \n",
       "...                                           ...   \n",
       "130271                    Victory Brewing Company   \n",
       "130272                         Flying Dog Brewery   \n",
       "130273                      Surly Brewing Company   \n",
       "130274         Der HirschBrau/Privatbrauerei Höss   \n",
       "130275                   Live Oak Brewing Company   \n",
       "\n",
       "                              beer_style  100_scale  \n",
       "0         American Double / Imperial IPA         20  \n",
       "1       American Double / Imperial Stout         20  \n",
       "2                   Herbed / Spiced Beer         20  \n",
       "3                          Winter Warmer         20  \n",
       "4                    American Barleywine         20  \n",
       "...                                  ...        ...  \n",
       "130271               American Barleywine        100  \n",
       "130272                           Witbier        100  \n",
       "130273                American Brown Ale        100  \n",
       "130274                        Hefeweizen        100  \n",
       "130275                        Hefeweizen        100  \n",
       "\n",
       "[158661 rows x 3 columns]"
      ]
     },
     "execution_count": 21,
     "metadata": {},
     "output_type": "execute_result"
    }
   ],
   "source": [
    "ddf.compute(scheduler=\"synchronous\")"
   ]
  },
  {
   "cell_type": "markdown",
   "metadata": {},
   "source": [
    "__Using `persist`__\n",
    "\n",
    "Since the `compute` method will convert your Dask DataFrame to a Pandas DataFrame, it is typically a **bad** idea to use compute on larger-than-memory (LTM) datasets.  In NVTabular, we do use a `compute` method, but never on a full Dask/dask_cudf DataFrame object.  Instead, we use `compute` to trigger the collection/reduction of an aggregated statistics dictionary, and/or to write out a processed dataset.\n",
    "\n",
    "In order to execute the `ddf` DAG **without** converting it to a single pandas DataFrame, you need to use the [`persist` method](https://github.com/dask/dask/blob/51d3f1120fc55f21b5ce1ac137201ea01d9cf496/dask/base.py#L101). This function is particularly useful when using distributed systems, because the results will be kept in distributed memory, rather than returned to the local process as with compute. It will also allow the distributed cluster to clean up data that the scheduler no longer deems necessary.  For the single-machine case, the method is used less often."
   ]
  },
  {
   "cell_type": "markdown",
   "metadata": {},
   "source": [
    "__Visualizing the DAG__"
   ]
  },
  {
   "cell_type": "markdown",
   "metadata": {},
   "source": [
    "Dask makes it very easy to visualize the task graph of a collection using the [`visualize` method](https://docs.dask.org/en/latest/api.html#dask.visualize).  To use this utility, you will need to install the `graphviz` library...\n",
    "\n",
    "E.g. `conda install -c conda-forge python-graphviz`"
   ]
  },
  {
   "cell_type": "code",
   "execution_count": 23,
   "metadata": {},
   "outputs": [
    {
     "data": {
      "image/png": "[encoded data removed]",
      "text/plain": [
       "<IPython.core.display.Image object>"
      ]
     },
     "execution_count": 23,
     "metadata": {},
     "output_type": "execute_result"
    }
   ],
   "source": [
    "ddf.visualize(optimize_graph=True, verbose=False, size=\"8\")"
   ]
  },
  {
   "cell_type": "markdown",
   "metadata": {},
   "source": [
    "## Hands On: *Custom Graph (No DataFrame API)*\n",
    "\n",
    "Now that we know the absolute basics of the Dask DataFrame (which is the foundation of dask_cudf), we will take a temporary step away from this high-level API and focus on low-level DAG construction.\n",
    "\n",
    "The good news is that a Dask task graph is just a python dictionary of key-argument tuples!\n",
    "\n",
    "Before we try to implement a custom task graph on a Dask DataFrame, we will start with something similar to the [simple example](https://docs.dask.org/en/latest/custom-graphs.html) available in the Dask documentation."
   ]
  },
  {
   "cell_type": "code",
   "execution_count": 31,
   "metadata": {},
   "outputs": [
    {
     "data": {
      "text/plain": [
       "{'gen-0': (<function __main__.gen(i)>, 0),\n",
       " 'modify-0': (<function __main__.modify(s)>, 'gen-0'),\n",
       " 'gen-1': (<function __main__.gen(i)>, 1),\n",
       " 'modify-1': (<function __main__.modify(s)>, 'gen-1'),\n",
       " 'gen-2': (<function __main__.gen(i)>, 2),\n",
       " 'modify-2': (<function __main__.modify(s)>, 'gen-2'),\n",
       " 'combine': (<function __main__.combine(sequence_of_data)>,\n",
       "  ['modify-0', 'modify-1', 'modify-2'])}"
      ]
     },
     "execution_count": 31,
     "metadata": {},
     "output_type": "execute_result"
    }
   ],
   "source": [
    "import numpy as np\n",
    "import pandas as pd\n",
    "\n",
    "part_size = 5\n",
    "nparts = 3\n",
    "\n",
    "def gen(i):\n",
    "    return pd.Series(np.random.randint(1000, size=part_size))\n",
    "\n",
    "def modify(s):\n",
    "    mean = s.mean()\n",
    "    return s - mean\n",
    "\n",
    "def combine(sequence_of_data):\n",
    "    df = pd.DataFrame()\n",
    "    for i, data in enumerate(sequence_of_data):\n",
    "        df[str(i)] = data\n",
    "    return df\n",
    "\n",
    "dsk = {}\n",
    "for i in range(nparts):\n",
    "    dsk[\"gen-\"+str(i)] = (gen, i)\n",
    "    dsk[\"modify-\"+str(i)] = (modify, \"gen-\"+str(i))\n",
    "dsk[\"combine\"] = (combine, ['modify-%d' % i for i in range(nparts)])\n",
    "dsk"
   ]
  },
  {
   "cell_type": "markdown",
   "metadata": {},
   "source": [
    "Note that the anatomy of the `dsk` DAG is very simple:\n",
    "\n",
    "- `dsk` is a python `dict`\n",
    "- Each element in `dsk` corresponds to a task\n",
    "- Each task has a unique key (which is also the `dict` key)\n",
    "- The content (value) of each task is represented as a `tuple`.\n",
    "    - The first element of this `tuple` is typically a *callable* function\n",
    "    - The remaining elements of this `tuple` are typically the function arguments\n",
    "    - One or more of the function arguments can be the key of a different task (defining an edge in the DAG)\n",
    "    - A function argument can also be a list of multiple task keys (common for tree reductions)\n",
    "    \n",
    "As we did for `ddf` above, we can also visualize `dsk` with `graphviz`..."
   ]
  },
  {
   "cell_type": "code",
   "execution_count": 38,
   "metadata": {},
   "outputs": [
    {
     "data": {
      "image/png": "[encoded data removed]",
      "text/plain": [
       "<IPython.core.display.Image object>"
      ]
     },
     "execution_count": 38,
     "metadata": {},
     "output_type": "execute_result"
    }
   ],
   "source": [
    "from dask import visualize\n",
    "visualize(dsk, optimize_graph=True, verbose=False, size=\"5\")"
   ]
  },
  {
   "cell_type": "markdown",
   "metadata": {},
   "source": [
    "When we are ready to execute our custom graph, we can access the result of a specific task using the `get` function (and by passing the graph and the key of the desired task output)..."
   ]
  },
  {
   "cell_type": "code",
   "execution_count": 39,
   "metadata": {},
   "outputs": [
    {
     "data": {
      "text/html": [
       "<div>\n",
       "<style scoped>\n",
       "    .dataframe tbody tr th:only-of-type {\n",
       "        vertical-align: middle;\n",
       "    }\n",
       "\n",
       "    .dataframe tbody tr th {\n",
       "        vertical-align: top;\n",
       "    }\n",
       "\n",
       "    .dataframe thead th {\n",
       "        text-align: right;\n",
       "    }\n",
       "</style>\n",
       "<table border=\"1\" class=\"dataframe\">\n",
       "  <thead>\n",
       "    <tr style=\"text-align: right;\">\n",
       "      <th></th>\n",
       "      <th>0</th>\n",
       "      <th>1</th>\n",
       "      <th>2</th>\n",
       "    </tr>\n",
       "  </thead>\n",
       "  <tbody>\n",
       "    <tr>\n",
       "      <th>0</th>\n",
       "      <td>-171.8</td>\n",
       "      <td>254.6</td>\n",
       "      <td>-396.4</td>\n",
       "    </tr>\n",
       "    <tr>\n",
       "      <th>1</th>\n",
       "      <td>186.2</td>\n",
       "      <td>-289.4</td>\n",
       "      <td>124.6</td>\n",
       "    </tr>\n",
       "    <tr>\n",
       "      <th>2</th>\n",
       "      <td>-71.8</td>\n",
       "      <td>-40.4</td>\n",
       "      <td>204.6</td>\n",
       "    </tr>\n",
       "    <tr>\n",
       "      <th>3</th>\n",
       "      <td>273.2</td>\n",
       "      <td>-429.4</td>\n",
       "      <td>-27.4</td>\n",
       "    </tr>\n",
       "    <tr>\n",
       "      <th>4</th>\n",
       "      <td>-215.8</td>\n",
       "      <td>504.6</td>\n",
       "      <td>94.6</td>\n",
       "    </tr>\n",
       "  </tbody>\n",
       "</table>\n",
       "</div>"
      ],
      "text/plain": [
       "       0      1      2\n",
       "0 -171.8  254.6 -396.4\n",
       "1  186.2 -289.4  124.6\n",
       "2  -71.8  -40.4  204.6\n",
       "3  273.2 -429.4  -27.4\n",
       "4 -215.8  504.6   94.6"
      ]
     },
     "execution_count": 39,
     "metadata": {},
     "output_type": "execute_result"
    }
   ],
   "source": [
    "from dask.threaded import get\n",
    "\n",
    "get(dsk, \"combine\")"
   ]
  },
  {
   "cell_type": "markdown",
   "metadata": {},
   "source": [
    "## Hands On: *Custom Graph WITH Dask DataFrame*\n",
    "\n",
    "Now that we have introduced the basics of Dask task-graph creation, we are ready to implemnt a custom graph to operate on a Dask DataFrame. In other words, we are ready to learn how to implement a Dask DataFrame operation that is not already available in the existing API.  Actually, the more likely situation is that the desired operation **is** possible with the Dask DataFrame API, but is not very efficient.  The fact that the `dask.dataframe` attempts to cover a large fraction of the pandas API means that performance has is sacrificed for generality in many cases.\n",
    "\n",
    "Before we attempt an operation that is **not** covered by the existing DataFrame API, lets start with a simple operation that **is**:\n",
    "\n",
    "> **Challenge #1**: For the \"beer\" dataset used above, implement a custom DAG to calculate the length of the longest beer name. The result should be an integer, corrsponding to th maximum length of the string in column `\"beer_name\"`.\n",
    "\n",
    "Clearly, we shouldn't need to construct a custom graph for this operation..."
   ]
  },
  {
   "cell_type": "code",
   "execution_count": 1,
   "metadata": {},
   "outputs": [
    {
     "data": {
      "text/plain": [
       "66"
      ]
     },
     "execution_count": 1,
     "metadata": {},
     "output_type": "execute_result"
    }
   ],
   "source": [
    "import dask.dataframe as dd\n",
    "\n",
    "ddf = dd.read_csv('data/beer_small.csv', blocksize=12e6)\n",
    "result = int(ddf[\"brewery_name\"].str.len().max().compute())\n",
    "result"
   ]
  },
  {
   "cell_type": "markdown",
   "metadata": {},
   "source": [
    "If we **did** need to construct our own DAG for this operation, we just need to use the following procedure:\n",
    "\n",
    "1. Define the options for the custom operation, use these options to crate a unique token, and define an empty dictionary (the actual graph we are constructing).  Note that the unique token will be appended to all key names."
   ]
  },
  {
   "cell_type": "code",
   "execution_count": 2,
   "metadata": {},
   "outputs": [],
   "source": [
    "from dask.base import tokenize\n",
    "\n",
    "col = \"brewery_name\"        # An \"option\" for our operation\n",
    "token = tokenize(ddf, col)  # A unique token to avoid scheduler collisions\n",
    "dsk = {}                    # Our DAG (to be construncted)"
   ]
  },
  {
   "cell_type": "markdown",
   "metadata": {},
   "source": [
    "2. Start by defining tasks that will directly use one (or more) partitions of `ddf`.  The task key for the `i`th partition of `ddf` corresponds to to the tuple: `(ddf._name, i)`.  For this example, we will want to define a pandas-based task that computes the maximum string legth in each partition."
   ]
  },
  {
   "cell_type": "code",
   "execution_count": 11,
   "metadata": {},
   "outputs": [],
   "source": [
    "# Define the actual function to perform on each `ddf`\n",
    "# partition for our first \"layer\" of tasks\n",
    "def _max_per_partition(part, col):\n",
    "    return part[col].str.len().max()\n",
    "\n",
    "# Define the name to use for each of these similar tasks\n",
    "# (note that we still need to attach the partition index\n",
    "#  to define the actual \"key\" in the DAG)\n",
    "max_per_part_name = \"max_str_len_partition-\" + token\n",
    "for i in range(ddf.npartitions):\n",
    "    # The key for this task should be a tuple:\n",
    "    #     (<task-name>, <partition-index>)\n",
    "    key = (max_per_part_name, i)\n",
    "    part_key = (ddf._name, i)\n",
    "    dsk[key] = (_max_per_partition, part_key, col)"
   ]
  },
  {
   "cell_type": "markdown",
   "metadata": {},
   "source": [
    "3. Define one or more layers of tasks to reduce a global statistics from the partition-wise statistics.  In this case, we can define a single task that requires input from all `_max_per_partition` tasks."
   ]
  },
  {
   "cell_type": "code",
   "execution_count": 17,
   "metadata": {},
   "outputs": [],
   "source": [
    "# Our task to reduce the global maximum is very simple\n",
    "# (Could just use a `lambda` funciton, but defining\n",
    "#  a distinct function for clarity here)\n",
    "def _global_max(max_list):\n",
    "    return int(max(max_list))\n",
    "\n",
    "# Since we only need one task, we can use the \"name\"\n",
    "# as the actual task key\n",
    "global_max_name = \"global_max-\" + token\n",
    "key = global_max_name\n",
    "dsk[key] = (\n",
    "    _global_max,\n",
    "    [(max_per_part_name, i) for i in range(ddf.npartitions)],\n",
    ")"
   ]
  },
  {
   "cell_type": "markdown",
   "metadata": {},
   "source": [
    "4. Convert `dsk` to a `HighLevelGraph` to enable high-level optimizations by Dask, and establish the dependency of our custom operation on `ddf`."
   ]
  },
  {
   "cell_type": "code",
   "execution_count": 18,
   "metadata": {},
   "outputs": [],
   "source": [
    "from dask.highlevelgraph import HighLevelGraph\n",
    "\n",
    "graph = HighLevelGraph.from_collections(global_max_name, dsk, dependencies=[ddf])"
   ]
  },
  {
   "cell_type": "markdown",
   "metadata": {},
   "source": [
    "5. (Optional, but suggested for statistics operations) Convert the `HighLevelGraph` representation into a `dask.delayed.Delayed` object.  This creates a simple object that the user can call `compute` on."
   ]
  },
  {
   "cell_type": "code",
   "execution_count": 19,
   "metadata": {},
   "outputs": [
    {
     "data": {
      "text/plain": [
       "Delayed('global_max-e3fb5aa4e6ac4cafa8d0fb186b92be65')"
      ]
     },
     "execution_count": 19,
     "metadata": {},
     "output_type": "execute_result"
    }
   ],
   "source": [
    "from dask.delayed import Delayed\n",
    "\n",
    "max_name_len_delayed = Delayed(key, graph)\n",
    "max_name_len_delayed"
   ]
  },
  {
   "cell_type": "markdown",
   "metadata": {},
   "source": [
    "We are now done defining our custom DAG. As a sanity check, we can always use `graphviz` to visually inspect our task graph.  In this case the graph/logic is very simple.  In some cases (like sorting), the graph can become very complex (and difficult to parse by eye)."
   ]
  },
  {
   "cell_type": "code",
   "execution_count": 22,
   "metadata": {},
   "outputs": [
    {
     "data": {
      "image/png": "[encoded data removed]",
      "text/plain": [
       "<IPython.core.display.Image object>"
      ]
     },
     "execution_count": 22,
     "metadata": {},
     "output_type": "execute_result"
    }
   ],
   "source": [
    "from dask import visualize\n",
    "\n",
    "visualize(graph, optimize_graph=True, verbose=False, size=\"6\")"
   ]
  },
  {
   "cell_type": "markdown",
   "metadata": {},
   "source": [
    "Everything appears to be correct - Since the result of the operation is a single integer value (low memory footprint), we can just use `compute` to get our result..."
   ]
  },
  {
   "cell_type": "code",
   "execution_count": 23,
   "metadata": {},
   "outputs": [
    {
     "data": {
      "text/plain": [
       "66"
      ]
     },
     "execution_count": 23,
     "metadata": {},
     "output_type": "execute_result"
    }
   ],
   "source": [
    "max_name_len_delayed.compute()"
   ]
  },
  {
   "cell_type": "code",
   "execution_count": null,
   "metadata": {},
   "outputs": [],
   "source": [
    "del ddf"
   ]
  },
  {
   "cell_type": "markdown",
   "metadata": {},
   "source": [
    "## Homework Challenge\n",
    "\n",
    "Modify the custom DAG implementation above to:\n",
    "\n",
    "- [EASY] Use `dask_cudf` instead of `dask.dataframe` and `pandas`\n",
    "- [MEDIUM] Return the actual beer name (string) that is longest (not the length)"
   ]
  },
  {
   "cell_type": "markdown",
   "metadata": {},
   "source": [
    "### Using the Distributed Scheduler\n",
    "\n",
    "Required \"processes\" to run Dask with distributed parallelism:\n",
    "\n",
    "- `Scheduler` Process: May be started as a standalone scheduler using Dask's CLI.  For single-machine parallelism, usually started as part of a \"cluster\".\n",
    "- `Worker` Processes: Processes where Dask task graphs are executed.\n",
    "- `Client` Process: The process you are using to construct the task graph using `dask.dataframe`/`dask_cudf` (or custom code).\n",
    "\n",
    "__Local Cluster__\n",
    "\n",
    "Convenient class for constructing the processes summarized above. Note that most `cudf`/`dask_cudf` code will *probably* run fine with a `LocalCluster`.  However, worker processes will not be pinned to distinct devices."
   ]
  },
  {
   "cell_type": "code",
   "execution_count": 3,
   "metadata": {},
   "outputs": [
    {
     "name": "stderr",
     "output_type": "stream",
     "text": [
      "/datasets/rzamora/miniconda3/envs/cudf_15/lib/python3.7/site-packages/distributed/node.py:155: UserWarning: Port 8787 is already in use.\n",
      "Perhaps you already have a cluster running?\n",
      "Hosting the HTTP server on port 38719 instead\n",
      "  http_address[\"port\"], self.http_server.port\n"
     ]
    },
    {
     "data": {
      "text/html": [
       "<table style=\"border: 2px solid white;\">\n",
       "<tr>\n",
       "<td style=\"vertical-align: top; border: 0px solid white\">\n",
       "<h3 style=\"text-align: left;\">Client</h3>\n",
       "<ul style=\"text-align: left; list-style: none; margin: 0; padding: 0;\">\n",
       "  <li><b>Scheduler: </b>tcp://127.0.0.1:44615</li>\n",
       "  <li><b>Dashboard: </b><a href='http://127.0.0.1:38719/status' target='_blank'>http://127.0.0.1:38719/status</a></li>\n",
       "</ul>\n",
       "</td>\n",
       "<td style=\"vertical-align: top; border: 0px solid white\">\n",
       "<h3 style=\"text-align: left;\">Cluster</h3>\n",
       "<ul style=\"text-align: left; list-style:none; margin: 0; padding: 0;\">\n",
       "  <li><b>Workers: </b>2</li>\n",
       "  <li><b>Cores: </b>80</li>\n",
       "  <li><b>Memory: </b>1.08 TB</li>\n",
       "</ul>\n",
       "</td>\n",
       "</tr>\n",
       "</table>"
      ],
      "text/plain": [
       "<Client: 'tcp://127.0.0.1:44615' processes=2 threads=80, memory=1.08 TB>"
      ]
     },
     "execution_count": 3,
     "metadata": {},
     "output_type": "execute_result"
    }
   ],
   "source": [
    "from dask.distributed import LocalCluster, Client\n",
    "import dask.dataframe as dd\n",
    "\n",
    "cluster = LocalCluster(n_workers=2)\n",
    "client = Client(cluster)\n",
    "client"
   ]
  },
  {
   "cell_type": "code",
   "execution_count": 4,
   "metadata": {},
   "outputs": [
    {
     "data": {
      "text/plain": [
       "66"
      ]
     },
     "execution_count": 4,
     "metadata": {},
     "output_type": "execute_result"
    }
   ],
   "source": [
    "ddf = dd.read_csv('data/beer_small.csv', blocksize=12e6)\n",
    "result = int(ddf[\"brewery_name\"].str.len().max().compute())\n",
    "result"
   ]
  },
  {
   "cell_type": "code",
   "execution_count": 5,
   "metadata": {},
   "outputs": [],
   "source": [
    "client.cancel(ddf)\n",
    "client.close()\n",
    "del client, cluster"
   ]
  },
  {
   "cell_type": "markdown",
   "metadata": {},
   "source": [
    "__Local CUDA Cluster__\n",
    "\n",
    "This is the GPU-aware version of `LocalCluster`.  The class will pin worker processes to distinct devices, and will also deal with both device <-> host and host <-> disk spilling."
   ]
  },
  {
   "cell_type": "code",
   "execution_count": 7,
   "metadata": {},
   "outputs": [
    {
     "name": "stderr",
     "output_type": "stream",
     "text": [
      "/datasets/rzamora/miniconda3/envs/cudf_15/lib/python3.7/site-packages/distributed/node.py:155: UserWarning: Port 8787 is already in use.\n",
      "Perhaps you already have a cluster running?\n",
      "Hosting the HTTP server on port 38609 instead\n",
      "  http_address[\"port\"], self.http_server.port\n"
     ]
    },
    {
     "data": {
      "text/html": [
       "<table style=\"border: 2px solid white;\">\n",
       "<tr>\n",
       "<td style=\"vertical-align: top; border: 0px solid white\">\n",
       "<h3 style=\"text-align: left;\">Client</h3>\n",
       "<ul style=\"text-align: left; list-style: none; margin: 0; padding: 0;\">\n",
       "  <li><b>Scheduler: </b>tcp://127.0.0.1:40593</li>\n",
       "  <li><b>Dashboard: </b><a href='http://127.0.0.1:38609/status' target='_blank'>http://127.0.0.1:38609/status</a></li>\n",
       "</ul>\n",
       "</td>\n",
       "<td style=\"vertical-align: top; border: 0px solid white\">\n",
       "<h3 style=\"text-align: left;\">Cluster</h3>\n",
       "<ul style=\"text-align: left; list-style:none; margin: 0; padding: 0;\">\n",
       "  <li><b>Workers: </b>2</li>\n",
       "  <li><b>Cores: </b>80</li>\n",
       "  <li><b>Memory: </b>1.08 TB</li>\n",
       "</ul>\n",
       "</td>\n",
       "</tr>\n",
       "</table>"
      ],
      "text/plain": [
       "<Client: 'tcp://127.0.0.1:40593' processes=2 threads=80, memory=1.08 TB>"
      ]
     },
     "execution_count": 7,
     "metadata": {},
     "output_type": "execute_result"
    }
   ],
   "source": [
    "from dask.distributed import Client\n",
    "from dask_cuda import LocalCUDACluster\n",
    "import dask.dataframe as dd\n",
    "import dask_cudf\n",
    "\n",
    "cluster = LocalCluster(n_workers=2)\n",
    "client = Client(cluster)\n",
    "client"
   ]
  },
  {
   "cell_type": "code",
   "execution_count": 9,
   "metadata": {},
   "outputs": [
    {
     "data": {
      "text/plain": [
       "66"
      ]
     },
     "execution_count": 9,
     "metadata": {},
     "output_type": "execute_result"
    }
   ],
   "source": [
    "ddf = dask_cudf.read_csv('data/beer_small.csv', blocksize=12e6)\n",
    "result = int(ddf[\"brewery_name\"].str.len().max().compute())\n",
    "result"
   ]
  },
  {
   "cell_type": "code",
   "execution_count": 10,
   "metadata": {},
   "outputs": [],
   "source": [
    "client.cancel(ddf)\n",
    "client.close()\n",
    "del client, cluster"
   ]
  },
  {
   "cell_type": "markdown",
   "metadata": {},
   "source": [
    "## *SUPER Bonus Challenge [TODO]*\n",
    "\n",
    "\n",
    "> __Example Goal__: For the dataset in `data/beer_small.csv`, implement a custom DAG to calculate the highest-rated beer for each brewery.  The result should be a pands dataframe with two columns: `\"brewery_name\"` and `\"beer_name\"`.  Use the `\"review_overall\"` feature to determine the highest rated beer for each category, and use any of the highest-ranked beers when there is a tie (this should simplify things a bit)."
   ]
  },
  {
   "cell_type": "markdown",
   "metadata": {},
   "source": [
    "First, we should clarify that the above goal does **not** require us to implement a custom graph.  In fact, we should start by using the Dask DataFrame API as a reference..."
   ]
  },
  {
   "cell_type": "code",
   "execution_count": 7,
   "metadata": {},
   "outputs": [
    {
     "data": {
      "text/html": [
       "<div>\n",
       "<style scoped>\n",
       "    .dataframe tbody tr th:only-of-type {\n",
       "        vertical-align: middle;\n",
       "    }\n",
       "\n",
       "    .dataframe tbody tr th {\n",
       "        vertical-align: top;\n",
       "    }\n",
       "\n",
       "    .dataframe thead th {\n",
       "        text-align: right;\n",
       "    }\n",
       "</style>\n",
       "<table border=\"1\" class=\"dataframe\">\n",
       "  <thead>\n",
       "    <tr style=\"text-align: right;\">\n",
       "      <th></th>\n",
       "      <th>brewery_name</th>\n",
       "      <th>beer_name</th>\n",
       "    </tr>\n",
       "  </thead>\n",
       "  <tbody>\n",
       "    <tr>\n",
       "      <th>0</th>\n",
       "      <td>A Tribbiera</td>\n",
       "      <td>Prima</td>\n",
       "    </tr>\n",
       "    <tr>\n",
       "      <th>1</th>\n",
       "      <td>AS Puls Brewery</td>\n",
       "      <td>Puls Jäägri Õlu (Puls Hunters' Beer)</td>\n",
       "    </tr>\n",
       "    <tr>\n",
       "      <th>2</th>\n",
       "      <td>Abbey Ales Limited</td>\n",
       "      <td>Abbey Ales Bellringer</td>\n",
       "    </tr>\n",
       "    <tr>\n",
       "      <th>3</th>\n",
       "      <td>Airways Brewing Company</td>\n",
       "      <td>First Class</td>\n",
       "    </tr>\n",
       "    <tr>\n",
       "      <th>5</th>\n",
       "      <td>Antarctica (Companhia Brasileira De Bebidas)</td>\n",
       "      <td>Antarctica Pilsen</td>\n",
       "    </tr>\n",
       "    <tr>\n",
       "      <th>...</th>\n",
       "      <td>...</td>\n",
       "      <td>...</td>\n",
       "    </tr>\n",
       "    <tr>\n",
       "      <th>6656</th>\n",
       "      <td>Weiland Brewery Restaurant</td>\n",
       "      <td>Hefeweizen</td>\n",
       "    </tr>\n",
       "    <tr>\n",
       "      <th>6657</th>\n",
       "      <td>Whitehead</td>\n",
       "      <td>Whitehead Porter</td>\n",
       "    </tr>\n",
       "    <tr>\n",
       "      <th>6658</th>\n",
       "      <td>Wicküler Brauerei GmbH</td>\n",
       "      <td>Wicküler Pilsener</td>\n",
       "    </tr>\n",
       "    <tr>\n",
       "      <th>6659</th>\n",
       "      <td>Wildwood Brewing Co.</td>\n",
       "      <td>Chocolate Honey Porter</td>\n",
       "    </tr>\n",
       "    <tr>\n",
       "      <th>6660</th>\n",
       "      <td>Wm. Kuether Brewing</td>\n",
       "      <td>'Sconnie Pale Ale</td>\n",
       "    </tr>\n",
       "  </tbody>\n",
       "</table>\n",
       "<p>3769 rows × 2 columns</p>\n",
       "</div>"
      ],
      "text/plain": [
       "                                      brewery_name  \\\n",
       "0                                      A Tribbiera   \n",
       "1                                  AS Puls Brewery   \n",
       "2                               Abbey Ales Limited   \n",
       "3                          Airways Brewing Company   \n",
       "5     Antarctica (Companhia Brasileira De Bebidas)   \n",
       "...                                            ...   \n",
       "6656                    Weiland Brewery Restaurant   \n",
       "6657                                     Whitehead   \n",
       "6658                        Wicküler Brauerei GmbH   \n",
       "6659                          Wildwood Brewing Co.   \n",
       "6660                           Wm. Kuether Brewing   \n",
       "\n",
       "                                 beer_name  \n",
       "0                                    Prima  \n",
       "1     Puls Jäägri Õlu (Puls Hunters' Beer)  \n",
       "2                    Abbey Ales Bellringer  \n",
       "3                              First Class  \n",
       "5                        Antarctica Pilsen  \n",
       "...                                    ...  \n",
       "6656                            Hefeweizen  \n",
       "6657                      Whitehead Porter  \n",
       "6658                     Wicküler Pilsener  \n",
       "6659                Chocolate Honey Porter  \n",
       "6660                     'Sconnie Pale Ale  \n",
       "\n",
       "[3769 rows x 2 columns]"
      ]
     },
     "execution_count": 7,
     "metadata": {},
     "output_type": "execute_result"
    }
   ],
   "source": [
    "import dask.dataframe as dd\n",
    "\n",
    "ddf = dd.read_csv('data/beer_small.csv', blocksize=12e6)\n",
    "\n",
    "# Use the Dask API to group rows by \"brewery_name\", and aggregate by\n",
    "# the `max` of \"review_overall\".\n",
    "# The groupby-agg API provides a `split_out` argument that allows us\n",
    "# to define the number of partitions for our output DataFrame\n",
    "# (we will use 2 to be consistent with `ddf`)\n",
    "ddf_max = ddf.groupby(\"brewery_name\").agg({\"review_overall\":[\"max\"]}, split_out=2)\n",
    "\n",
    "# Lets flatten the column index and reset the row index\n",
    "# to make things easier to deal with..\n",
    "ddf_max.columns = pd.Index([\"review_overall\"])\n",
    "ddf_max = ddf_max.reset_index(drop=False)\n",
    "\n",
    "# Lets define the columns of `ddf` needed for this operation\n",
    "# and the columns we want to use to merge `ddf_max` with `ddf`\n",
    "op_cols = [\"review_overall\", \"brewery_name\", \"beer_name\"]\n",
    "merge_on = [\"review_overall\", \"brewery_name\"]\n",
    "\n",
    "# Overwrite `ddf_max` with the merged DataFrame...\n",
    "# Note that we use the `shuffle=\"tasks\"` argument to make sure\n",
    "# Dask does this operation in memory (rather than on disk)\n",
    "ddf_max = ddf_max.merge(ddf[op_cols], on=merge_on, how=\"left\", shuffle=\"tasks\")\n",
    "\n",
    "# Finally, deal with ties by dropping duplicates\n",
    "# (For simplicity, no smart tie-breaking strategy)\n",
    "ddf_max = ddf_max.drop_duplicates([\"brewery_name\"]).drop(columns=[\"review_overall\"])\n",
    "\n",
    "df_ref = ddf_max.compute()\n",
    "del ddf_max\n",
    "df_ref"
   ]
  },
  {
   "cell_type": "markdown",
   "metadata": {},
   "source": [
    "__TODO__: Implement a custom graph to obtain the same result..."
   ]
  },
  {
   "cell_type": "code",
   "execution_count": null,
   "metadata": {},
   "outputs": [],
   "source": []
  }
 ],
 "metadata": {
  "kernelspec": {
   "display_name": "Python 3",
   "language": "python",
   "name": "python3"
  },
  "language_info": {
   "codemirror_mode": {
    "name": "ipython",
    "version": 3
   },
   "file_extension": ".py",
   "mimetype": "text/x-python",
   "name": "python",
   "nbconvert_exporter": "python",
   "pygments_lexer": "ipython3",
   "version": "3.7.6"
  }
 },
 "nbformat": 4,
 "nbformat_minor": 4
}
